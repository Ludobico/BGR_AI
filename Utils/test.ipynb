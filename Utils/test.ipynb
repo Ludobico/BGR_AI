{
 "cells": [
  {
   "cell_type": "code",
   "execution_count": 3,
   "metadata": {},
   "outputs": [
    {
     "name": "stdout",
     "output_type": "stream",
     "text": [
      "result 폴더 check\n",
      "label 폴더 check\n",
      "train 폴더 check\n"
     ]
    }
   ],
   "source": [
    "import os\n",
    "import shutil\n",
    "\n",
    "curdir = os.getcwd()\n",
    "resultdir = os.path.join(curdir,'..', 'result')\n",
    "labeldir = os.path.join(resultdir, 'label')\n",
    "traindir = os.path.join(resultdir, 'train')\n",
    "\n",
    "if not os.path.exists(resultdir):\n",
    "    print('result 폴더가 존재하지 않습니다. DataMerger를 실행하세요.')\n",
    "else:\n",
    "    print('result 폴더 check')\n",
    "\n",
    "if not os.path.exists(labeldir):\n",
    "    print('label 폴더가 존재하지 않습니다. DataMerger를 실행하세요.')\n",
    "else:\n",
    "    print('label 폴더 check')\n",
    "\n",
    "if not os.path.exists(traindir):\n",
    "    print('train 폴더가 존재하지 않습니다. DataMerger를 실행하세요.')\n",
    "else:\n",
    "    print('train 폴더 check')\n"
   ]
  },
  {
   "cell_type": "code",
   "execution_count": 5,
   "metadata": {},
   "outputs": [],
   "source": [
    "mergeddir = os.path.join(resultdir, 'merged')\n",
    "\n",
    "if not os.path.exists(mergeddir):\n",
    "    os.mkdir(mergeddir)\n"
   ]
  },
  {
   "cell_type": "code",
   "execution_count": null,
   "metadata": {},
   "outputs": [],
   "source": []
  }
 ],
 "metadata": {
  "kernelspec": {
   "display_name": "venv",
   "language": "python",
   "name": "python3"
  },
  "language_info": {
   "codemirror_mode": {
    "name": "ipython",
    "version": 3
   },
   "file_extension": ".py",
   "mimetype": "text/x-python",
   "name": "python",
   "nbconvert_exporter": "python",
   "pygments_lexer": "ipython3",
   "version": "3.9.13"
  },
  "orig_nbformat": 4
 },
 "nbformat": 4,
 "nbformat_minor": 2
}
